{
 "cells": [
  {
   "cell_type": "markdown",
   "metadata": {},
   "source": [
    "# Computation Graph"
   ]
  },
  {
   "cell_type": "markdown",
   "metadata": {},
   "source": [
    "Computing the function: f(w0,w1,w2,x0,x1) = 1/1+e^-(w0x0+w1x1+w2)"
   ]
  },
  {
   "cell_type": "code",
   "execution_count": 1,
   "metadata": {},
   "outputs": [],
   "source": [
    "#importing the libraries\n",
    "import numpy as np\n",
    "import math"
   ]
  },
  {
   "cell_type": "code",
   "execution_count": 2,
   "metadata": {},
   "outputs": [],
   "source": [
    "#setting the parameters\n",
    "w0 = 2\n",
    "x0 = -1\n",
    "w1 = -3\n",
    "x1 = -2\n",
    "w2 = -3\n",
    "b1 = -1\n",
    "b2 = 1"
   ]
  },
  {
   "cell_type": "markdown",
   "metadata": {},
   "source": [
    "# Operations"
   ]
  },
  {
   "cell_type": "code",
   "execution_count": 3,
   "metadata": {},
   "outputs": [],
   "source": [
    "def add(x,y):\n",
    "    return x + y"
   ]
  },
  {
   "cell_type": "code",
   "execution_count": 4,
   "metadata": {},
   "outputs": [],
   "source": [
    "def mul(x,y):\n",
    "    return x * y"
   ]
  },
  {
   "cell_type": "code",
   "execution_count": 21,
   "metadata": {},
   "outputs": [],
   "source": [
    "def Max(x):\n",
    "    return max(0,x)"
   ]
  },
  {
   "cell_type": "code",
   "execution_count": 6,
   "metadata": {},
   "outputs": [],
   "source": [
    "def inverse(x):\n",
    "    return (1/x)"
   ]
  },
  {
   "cell_type": "code",
   "execution_count": 28,
   "metadata": {},
   "outputs": [],
   "source": [
    "def Exp(x):\n",
    "    return math.exp(x)"
   ]
  },
  {
   "cell_type": "markdown",
   "metadata": {},
   "source": [
    "# Forward Propagation"
   ]
  },
  {
   "cell_type": "code",
   "execution_count": 7,
   "metadata": {},
   "outputs": [],
   "source": [
    "z0 = mul(w0,x0)\n",
    "z1 = mul(w1,x1)"
   ]
  },
  {
   "cell_type": "code",
   "execution_count": 29,
   "metadata": {},
   "outputs": [],
   "source": [
    "z2 = add(z0,z1)\n",
    "z3 = add(z2,w2)\n",
    "z4 = mul(z3,b1)\n",
    "z5 = Exp(z4)\n",
    "z6 = add(z5,b2)\n",
    "z7 = inverse(z6)"
   ]
  },
  {
   "cell_type": "code",
   "execution_count": 17,
   "metadata": {},
   "outputs": [
    {
     "data": {
      "text/plain": [
       "0.7310585786300049"
      ]
     },
     "execution_count": 17,
     "metadata": {},
     "output_type": "execute_result"
    }
   ],
   "source": [
    "z7"
   ]
  },
  {
   "cell_type": "markdown",
   "metadata": {},
   "source": [
    "# Backward Propagation"
   ]
  },
  {
   "cell_type": "code",
   "execution_count": 23,
   "metadata": {},
   "outputs": [],
   "source": [
    "#derivative of the function\n",
    "der_f = 1"
   ]
  },
  {
   "cell_type": "code",
   "execution_count": 19,
   "metadata": {},
   "outputs": [],
   "source": [
    "z6_new = der_f * z7 * (-z7)"
   ]
  },
  {
   "cell_type": "code",
   "execution_count": 22,
   "metadata": {},
   "outputs": [],
   "source": [
    "#distributing the sum\n",
    "z5_new = z6_new\n",
    "b2_new = z6_new\n",
    "\n",
    "z4_new = mul(z5,z6_new)\n",
    "\n",
    "#swapping the values and multiplying with the gradients\n",
    "z3_new = mul(b1,z4_new)\n",
    "b1_new = mul(z3,z4_new)\n",
    "\n",
    "#distributing the sum\n",
    "z2_new = z3_new\n",
    "w2_new = z3_new\n",
    "\n",
    "#distributing the sum\n",
    "z0_new = z2_new\n",
    "z1_new = z2_new\n",
    "\n",
    "#swapping the values and multiplying with the gradients\n",
    "w0_new = mul(x0,z0_new)\n",
    "x0_new = mul(w0,z0_new)\n",
    "\n",
    "#swapping the values and multiplying with the gradients\n",
    "w1_new = mul(x1,z1_new)\n",
    "x1_new = mul(w1,z1_new)"
   ]
  },
  {
   "cell_type": "code",
   "execution_count": 27,
   "metadata": {},
   "outputs": [
    {
     "name": "stdout",
     "output_type": "stream",
     "text": [
      "w0_new: -0.19661193324148188\n",
      "w1_new: -0.39322386648296376\n",
      "w2_new 0.19661193324148188\n",
      "x0_new: 0.39322386648296376\n",
      "x1_new -0.5898357997244457\n"
     ]
    }
   ],
   "source": [
    "#new values are as follows\n",
    "print(\"w0_new:\",w0_new)\n",
    "print(\"w1_new:\",w1_new)\n",
    "print(\"w2_new\",w2_new)\n",
    "print(\"x0_new:\",x0_new)\n",
    "print(\"x1_new\",x1_new)"
   ]
  }
 ],
 "metadata": {
  "kernelspec": {
   "display_name": "Python 3",
   "language": "python",
   "name": "python3"
  },
  "language_info": {
   "codemirror_mode": {
    "name": "ipython",
    "version": 3
   },
   "file_extension": ".py",
   "mimetype": "text/x-python",
   "name": "python",
   "nbconvert_exporter": "python",
   "pygments_lexer": "ipython3",
   "version": "3.7.4"
  }
 },
 "nbformat": 4,
 "nbformat_minor": 2
}
